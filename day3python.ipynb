{
  "nbformat": 4,
  "nbformat_minor": 0,
  "metadata": {
    "colab": {
      "name": "day 3python",
      "provenance": [],
      "authorship_tag": "ABX9TyPNaemujOFTaBzjtkD7sCY3",
      "include_colab_link": true
    },
    "kernelspec": {
      "name": "python3",
      "display_name": "Python 3"
    },
    "language_info": {
      "name": "python"
    }
  },
  "cells": [
    {
      "cell_type": "markdown",
      "metadata": {
        "id": "view-in-github",
        "colab_type": "text"
      },
      "source": [
        "<a href=\"https://colab.research.google.com/github/mansijadhav2003/Assignment1/blob/main/day3python.ipynb\" target=\"_parent\"><img src=\"https://colab.research.google.com/assets/colab-badge.svg\" alt=\"Open In Colab\"/></a>"
      ]
    },
    {
      "cell_type": "code",
      "execution_count": 1,
      "metadata": {
        "colab": {
          "base_uri": "https://localhost:8080/"
        },
        "id": "em8-Waa55_HA",
        "outputId": "639b4637-a864-4a7c-9cd8-7ec9297dfe26"
      },
      "outputs": [
        {
          "output_type": "stream",
          "name": "stdout",
          "text": [
            "BreakingBad\n"
          ]
        }
      ],
      "source": [
        "Tv={'BreakingBad':100,'GameOfThrones':12,'mirzapur':88}\n",
        "Keymax=max(Tv,key=lambda x:Tv[x])\n",
        "print(Keymax)"
      ]
    }
  ]
}