{
  "nbformat": 4,
  "nbformat_minor": 0,
  "metadata": {
    "colab": {
      "name": "day7.ipynb",
      "provenance": [],
      "authorship_tag": "ABX9TyPF5dLCsGT+/pQk2Gbxc/vy",
      "include_colab_link": true
    },
    "kernelspec": {
      "name": "python3",
      "display_name": "Python 3"
    },
    "language_info": {
      "name": "python"
    }
  },
  "cells": [
    {
      "cell_type": "markdown",
      "metadata": {
        "id": "view-in-github",
        "colab_type": "text"
      },
      "source": [
        "<a href=\"https://colab.research.google.com/github/mansijadhav2003/Assignment1/blob/main/day7.ipynb\" target=\"_parent\"><img src=\"https://colab.research.google.com/assets/colab-badge.svg\" alt=\"Open In Colab\"/></a>"
      ]
    },
    {
      "cell_type": "code",
      "execution_count": null,
      "metadata": {
        "id": "Rcq_rIPnF_Mj"
      },
      "outputs": [],
      "source": [
        "import mysql.connector as sql\n",
        "database =sql.connect(host='localhost',user='root',password='ferrari458',database='schooldata')\n",
        "cur=database.cursor()\n",
        "cur.execute(\"update student set Eng_mark=80 where Roll_no=122\")\n",
        "cur.execute(\"select*from student\")\n",
        "for i in cur:\n",
        "  print(i)\n",
        "cur.close()\n",
        "database.commit()"
      ]
    }
  ]
}