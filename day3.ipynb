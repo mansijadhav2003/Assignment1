{
  "nbformat": 4,
  "nbformat_minor": 0,
  "metadata": {
    "colab": {
      "name": "day3.ipynb",
      "provenance": [],
      "authorship_tag": "ABX9TyPT7yP2aWM0fzU0O/FyKSjn",
      "include_colab_link": true
    },
    "kernelspec": {
      "name": "python3",
      "display_name": "Python 3"
    },
    "language_info": {
      "name": "python"
    }
  },
  "cells": [
    {
      "cell_type": "markdown",
      "metadata": {
        "id": "view-in-github",
        "colab_type": "text"
      },
      "source": [
        "<a href=\"https://colab.research.google.com/github/mansijadhav2003/Assignment1/blob/main/day3.ipynb\" target=\"_parent\"><img src=\"https://colab.research.google.com/assets/colab-badge.svg\" alt=\"Open In Colab\"/></a>"
      ]
    },
    {
      "cell_type": "code",
      "execution_count": 2,
      "metadata": {
        "colab": {
          "base_uri": "https://localhost:8080/"
        },
        "id": "Ejd8fDUtVsd8",
        "outputId": "f0d89ba3-4626-4c22-9540-9f2c131d0712"
      },
      "outputs": [
        {
          "output_type": "stream",
          "name": "stdout",
          "text": [
            "Enter a number:5\n",
            "the factorial of  5 is 120\n"
          ]
        }
      ],
      "source": [
        "def factorial(num):\n",
        "  factorial=1\n",
        "  if num<0:\n",
        "    print(\"Factorial does not exist for negative numbers\")\n",
        "  elif num==0:\n",
        "    print(\"The factorial of 0 is 1\")\n",
        "  else:\n",
        "    for i  in range(1,num+1):\n",
        "      factorial=factorial*i\n",
        "    print(\"the factorial of \",num,\"is\",factorial)\n",
        "num=int(input(\"Enter a number:\"))\n",
        "factorial(num)      "
      ]
    }
  ]
}