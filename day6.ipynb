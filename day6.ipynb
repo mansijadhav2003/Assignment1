{
  "nbformat": 4,
  "nbformat_minor": 0,
  "metadata": {
    "colab": {
      "name": "day6.ipynb",
      "provenance": [],
      "authorship_tag": "ABX9TyNM/zJtEw/4Dyjdyx4MYBpG",
      "include_colab_link": true
    },
    "kernelspec": {
      "name": "python3",
      "display_name": "Python 3"
    },
    "language_info": {
      "name": "python"
    }
  },
  "cells": [
    {
      "cell_type": "markdown",
      "metadata": {
        "id": "view-in-github",
        "colab_type": "text"
      },
      "source": [
        "<a href=\"https://colab.research.google.com/github/mansijadhav2003/Assignment1/blob/main/day6.ipynb\" target=\"_parent\"><img src=\"https://colab.research.google.com/assets/colab-badge.svg\" alt=\"Open In Colab\"/></a>"
      ]
    },
    {
      "cell_type": "code",
      "execution_count": 2,
      "metadata": {
        "colab": {
          "base_uri": "https://localhost:8080/"
        },
        "id": "TOuhHlYiIOAg",
        "outputId": "44914305-65a2-4f15-a65c-a88b1ae9b4f4"
      },
      "outputs": [
        {
          "output_type": "stream",
          "name": "stdout",
          "text": [
            "Enter two numbers:15 3\n",
            "5\n"
          ]
        }
      ],
      "source": [
        "def mod_div(fun):\n",
        "  def deno(a,b):\n",
        "    if a<b:\n",
        "      a,b=b,a\n",
        "    return fun(a,b)\n",
        "  return deno\n",
        "@mod_div\n",
        "def div(a,b):\n",
        "  return a//b\n",
        "a,b=(int(i) for i in input(\"Enter two numbers:\").split())\n",
        "print(div(a,b))"
      ]
    }
  ]
}