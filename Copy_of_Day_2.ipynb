{
  "nbformat": 4,
  "nbformat_minor": 0,
  "metadata": {
    "colab": {
      "name": "Copy of Day 2.ipynb",
      "provenance": [],
      "collapsed_sections": [],
      "authorship_tag": "ABX9TyPM1B/aC0OKN7fJsWh5W0rZ",
      "include_colab_link": true
    },
    "kernelspec": {
      "name": "python3",
      "display_name": "Python 3"
    },
    "language_info": {
      "name": "python"
    }
  },
  "cells": [
    {
      "cell_type": "markdown",
      "metadata": {
        "id": "view-in-github",
        "colab_type": "text"
      },
      "source": [
        "<a href=\"https://colab.research.google.com/github/mansijadhav2003/Assignment1/blob/main/Copy_of_Day_2.ipynb\" target=\"_parent\"><img src=\"https://colab.research.google.com/assets/colab-badge.svg\" alt=\"Open In Colab\"/></a>"
      ]
    },
    {
      "cell_type": "code",
      "source": [
        "lottery=\"hello coders\"\n",
        "#'h' or 'e' or 'o' or 'c' or 'd'\n",
        "print(\"choose correct character of word '\",lottery,\"to won the lottery\")\n",
        "inputs=str(input(\"enter character \"))\n",
        "print(inputs)\n",
        "if inputs==lottery[0].lower() or inputs==lottery[1].lower() or inputs==lottery[4].lower() or inputs==lottery[6].lower() or inputs==lottery[8].lower():\n",
        "  print(\"congrulations,you won the lottery\")\n",
        "else:\n",
        "  print(\"Sorry,you didn't win the lottery\")"
      ],
      "metadata": {
        "id": "fxyE1YtZeGJx"
      },
      "execution_count": null,
      "outputs": []
    }
  ]
}