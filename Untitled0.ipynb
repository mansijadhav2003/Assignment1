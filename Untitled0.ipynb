{
  "nbformat": 4,
  "nbformat_minor": 0,
  "metadata": {
    "colab": {
      "name": "Untitled0.ipynb",
      "provenance": [],
      "authorship_tag": "ABX9TyNpltHfFliPTYk6BkZSowWk",
      "include_colab_link": true
    },
    "kernelspec": {
      "name": "python3",
      "display_name": "Python 3"
    },
    "language_info": {
      "name": "python"
    }
  },
  "cells": [
    {
      "cell_type": "markdown",
      "metadata": {
        "id": "view-in-github",
        "colab_type": "text"
      },
      "source": [
        "<a href=\"https://colab.research.google.com/github/mansijadhav2003/Assignment1/blob/main/Untitled0.ipynb\" target=\"_parent\"><img src=\"https://colab.research.google.com/assets/colab-badge.svg\" alt=\"Open In Colab\"/></a>"
      ]
    },
    {
      "cell_type": "code",
      "execution_count": 2,
      "metadata": {
        "colab": {
          "base_uri": "https://localhost:8080/"
        },
        "id": "dfxFc2_jTvOP",
        "outputId": "d53faca6-c584-48c0-e9ce-92c135bc4775"
      },
      "outputs": [
        {
          "output_type": "stream",
          "name": "stdout",
          "text": [
            "How many numbers you want to add:5\n",
            "Enter numbers:4\n",
            "Enter numbers:7\n",
            "Enter numbers:2\n",
            "Enter numbers:8\n",
            "Enter numbers:1\n",
            "Sum of entered numbers= 22\n"
          ]
        }
      ],
      "source": [
        "list=[]\n",
        "num=int(input(\"How many numbers you want to add:\"))\n",
        "for n in range (num):\n",
        "  numbers=int(input(\"Enter numbers:\"))\n",
        "  list.append(numbers)\n",
        "print(\"Sum of entered numbers=\",sum(list))"
      ]
    }
  ]
}